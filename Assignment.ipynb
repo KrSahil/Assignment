{
 "cells": [
  {
   "attachments": {},
   "cell_type": "markdown",
   "metadata": {},
   "source": [
    "### Qeustion 1"
   ]
  },
  {
   "cell_type": "code",
   "execution_count": 1,
   "metadata": {},
   "outputs": [
    {
     "name": "stdout",
     "output_type": "stream",
     "text": [
      "5,15,21,54,416,741,6135,"
     ]
    }
   ],
   "source": [
    "def selection_sort(arr):\n",
    "    n = len(arr)\n",
    "    for pos in range(n-1):\n",
    "        min_position = pos\n",
    "        for j in range(pos, n):\n",
    "            if arr[j] < arr[min_position]:\n",
    "                min_position = j\n",
    "        arr[pos], arr[min_position] = arr[min_position], arr[pos]\n",
    "\n",
    "\n",
    "arr = [5,416,54,21,6135,15,741]\n",
    "selection_sort(arr)\n",
    "for x in arr:\n",
    "    print(x, end=\",\")"
   ]
  },
  {
   "attachments": {},
   "cell_type": "markdown",
   "metadata": {},
   "source": [
    "### Question 7"
   ]
  },
  {
   "cell_type": "code",
   "execution_count": 3,
   "metadata": {},
   "outputs": [
    {
     "name": "stdout",
     "output_type": "stream",
     "text": [
      "[5, 11, 17, 23]\n"
     ]
    }
   ],
   "source": [
    "def sublistSecondElement(lst, start, end):\n",
    "    sub_list = lst[start:end+1]\n",
    "    return sub_list[::2]\n",
    "\n",
    "\n",
    "result = sublistSecondElement([2,3,5,7,11,13,17,19,23,29,31,37,41], 2, 9)\n",
    "print(result)  \n"
   ]
  },
  {
   "attachments": {},
   "cell_type": "markdown",
   "metadata": {},
   "source": [
    "### Question 11"
   ]
  },
  {
   "cell_type": "code",
   "execution_count": 5,
   "metadata": {},
   "outputs": [
    {
     "name": "stdout",
     "output_type": "stream",
     "text": [
      "[0]\n",
      "[0, 1]\n",
      "\n",
      "\n",
      "[3, 2, 1, 0]\n",
      "[3, 2, 1, 0, 1]\n",
      "[3, 2, 1, 0, 1, 4]\n",
      "\n",
      "\n",
      "[0, 1, 0]\n",
      "[0, 1, 0, 1]\n",
      "[0, 1, 0, 1, 4]\n"
     ]
    }
   ],
   "source": [
    "\n",
    "def f(x,l=[]):\n",
    "    for i in range(x):\n",
    "        l.append(i*i)\n",
    "        print(l)\n",
    "\n",
    "\n",
    "f(2)\n",
    "print(\"\\n\")\n",
    "f(3,[3,2,1])\n",
    "print(\"\\n\")\n",
    "f(3)\n",
    "\n"
   ]
  },
  {
   "cell_type": "code",
   "execution_count": null,
   "metadata": {},
   "outputs": [],
   "source": []
  }
 ],
 "metadata": {
  "kernelspec": {
   "display_name": "Python 3",
   "language": "python",
   "name": "python3"
  },
  "language_info": {
   "codemirror_mode": {
    "name": "ipython",
    "version": 3
   },
   "file_extension": ".py",
   "mimetype": "text/x-python",
   "name": "python",
   "nbconvert_exporter": "python",
   "pygments_lexer": "ipython3",
   "version": "3.9.6"
  },
  "orig_nbformat": 4
 },
 "nbformat": 4,
 "nbformat_minor": 2
}
